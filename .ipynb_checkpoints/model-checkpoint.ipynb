{
 "cells": [
  {
   "cell_type": "code",
   "execution_count": 2,
   "metadata": {
    "collapsed": true
   },
   "outputs": [],
   "source": [
    "import os\n",
    "import csv\n",
    "import cv2\n",
    "import numpy as np\n",
    "import sklearn\n",
    "from sklearn.model_selection import train_test_split\n",
    "from sklearn.utils import shuffle\n",
    "from sklearn import preprocessing\n",
    "import matplotlib.pyplot as plt\n",
    "import random\n",
    "import pandas as pd\n",
    "import re\n",
    "import pickle\n",
    "from PIL import Image\n",
    "\n",
    "# Visualizations will be shown in the notebook.\n",
    "%matplotlib inline"
   ]
  },
  {
   "cell_type": "code",
   "execution_count": 3,
   "metadata": {},
   "outputs": [
    {
     "name": "stdout",
     "output_type": "stream",
     "text": [
      "Done\n"
     ]
    }
   ],
   "source": [
    "images = []\n",
    "angles = []\n",
    "samples = []\n",
    "correction = 0.5 # this is a parameter to tune\n",
    "def readFromDir(dir_name, if_windows):\n",
    "    if if_windows:\n",
    "        split_str = '\\\\'\n",
    "    else:\n",
    "        split_str = '/'\n",
    "    data_pd = pd.read_csv(dir_name+'/driving_log.csv', header=None)\n",
    "    lines = data_pd.values\n",
    "    for line in lines:\n",
    "        center_image = dir_name+'/IMG/'+line[0].split(split_str)[-1]\n",
    "        left_image = dir_name+'/IMG/'+line[1].split(split_str)[-1]\n",
    "        right_image = dir_name+'/IMG/'+line[2].split(split_str)[-1]\n",
    "#         center_image = cv2.imread(name)\n",
    "        center_angle = float(line[3])\n",
    "#         images.append(center_image)\n",
    "#         angles.append(center_angle)\n",
    "        samples.append((center_image, center_angle))\n",
    "        samples.append((left_image, center_angle+correction))\n",
    "        samples.append((right_image, center_angle-correction))\n",
    "print(\"Done\")"
   ]
  },
  {
   "cell_type": "code",
   "execution_count": 4,
   "metadata": {},
   "outputs": [
    {
     "name": "stdout",
     "output_type": "stream",
     "text": [
      "0\n",
      "42351\n",
      "('../behavior/behavior1/IMG/center_2017_12_16_11_41_39_478.jpg', 0.0)\n"
     ]
    }
   ],
   "source": [
    "# get all images and angles in center \n",
    "behavior1 = '../behavior/behavior1'\n",
    "behavior2 = '../behavior/behavior2' \n",
    "behavior3 = '../behavior/behavior3'\n",
    "readFromDir(behavior1, if_windows=True)\n",
    "readFromDir(behavior2, if_windows=True)\n",
    "readFromDir(behavior3, if_windows=False)\n",
    "# print(len(images))\n",
    "print(len(angles))\n",
    "# print(images[0].shape)\n",
    "print(len(samples))\n",
    "print(samples[0])"
   ]
  },
  {
   "cell_type": "code",
   "execution_count": 10,
   "metadata": {},
   "outputs": [
    {
     "name": "stdout",
     "output_type": "stream",
     "text": [
      "float64\n",
      "(42351,)\n",
      "\n"
     ]
    },
    {
     "data": {
      "image/png": "[encoded data removed]",
      "text/plain": [
       "<matplotlib.figure.Figure at 0x7f95ae574a90>"
      ]
     },
     "metadata": {},
     "output_type": "display_data"
    }
   ],
   "source": [
    "y_train = np.array(samples)[:,1]\n",
    "y_train = y_train.astype(float)\n",
    "print(y_train.dtype)\n",
    "print(y_train.shape)\n",
    "hist, bins = np.histogram(y_train, bins=20)\n",
    "print()\n",
    "width = 0.7 * (bins[1] - bins[0])\n",
    "center = (bins[:-1] + bins[1:]) / 2\n",
    "plt.bar(center, hist, align='center', width=width)\n",
    "plt.title(r'Augment train size summary', fontsize=19)\n",
    "plt.savefig(\"augmented_train_size.jpg\", bbox_inches='tight', pad_inches=0)\n",
    "plt.show()"
   ]
  },
  {
   "cell_type": "code",
   "execution_count": 4,
   "metadata": {
    "collapsed": true
   },
   "outputs": [],
   "source": [
    "# X_array = np.array(images)\n",
    "# y_array = np.array(angles)\n",
    "# X_, y_ = shuffle(X_array, y_array)\n",
    "\n",
    "# X_train, X_test, y_train, y_test = train_test_split(X_, y_, test_size=0.2)\n",
    "\n",
    "# print(X_train.shape)\n",
    "# print(X_test.shape)\n",
    "# print(y_train.shape)\n",
    "# print(y_test.shape)\n",
    "\n",
    "# data_file = \"data.p\"\n",
    "# data_var = {\"X_train\":X_train, \"X_test\":X_test, \"y_train\":y_train, \"y_test\":y_test}\n",
    "\n",
    "# with open(data_file, mode='wb') as f:\n",
    "#     pickle.dump(data_var, f)"
   ]
  },
  {
   "cell_type": "code",
   "execution_count": null,
   "metadata": {},
   "outputs": [
    {
     "name": "stdout",
     "output_type": "stream",
     "text": [
      "33880\n",
      "8471\n"
     ]
    }
   ],
   "source": [
    "samples = shuffle(samples)\n",
    "train_samples, validation_samples = train_test_split(samples, test_size=0.2)\n",
    "print(len(train_samples))\n",
    "print(len(validation_samples))\n",
    "\n",
    "def generator(samples, batch_size=32):\n",
    "    num_samples = len(samples)\n",
    "    while True: # Loop forever so the generator never terminates\n",
    "        shuffle(samples)\n",
    "        for offset in range(0, num_samples, batch_size):\n",
    "            batch_samples = samples[offset:offset+batch_size]\n",
    "            images = []\n",
    "            angles = []\n",
    "            for batch_sample in batch_samples:\n",
    "                name = batch_sample[0]\n",
    "#                 center_image = cv2.imread(name)\n",
    "                center_image = np.asarray(Image.open(name))\n",
    "                center_angle = float(batch_sample[1])\n",
    "                images.append(center_image)\n",
    "                angles.append(center_angle)\n",
    "\n",
    "            # trim image to only see section with road\n",
    "            X_train = np.array(images)\n",
    "            y_train = np.array(angles)\n",
    "            yield sklearn.utils.shuffle(X_train, y_train)\n",
    "\n",
    "# compile and train the model using the generator function\n",
    "train_generator = generator(train_samples, batch_size=32)\n",
    "validation_generator = generator(validation_samples, batch_size=32)"
   ]
  },
  {
   "cell_type": "code",
   "execution_count": null,
   "metadata": {},
   "outputs": [
    {
     "name": "stderr",
     "output_type": "stream",
     "text": [
      "Using TensorFlow backend.\n"
     ]
    },
    {
     "name": "stdout",
     "output_type": "stream",
     "text": [
      "__________________________________________________________________________________________________\n",
      "Layer (type)                    Output Shape         Param #     Connected to                     \n",
      "==================================================================================================\n",
      "input_1 (InputLayer)            (None, 160, 320, 3)  0                                            \n",
      "__________________________________________________________________________________________________\n",
      "cropping2d_1 (Cropping2D)       (None, 90, 320, 3)   0           input_1[0][0]                    \n",
      "__________________________________________________________________________________________________\n",
      "lambda_1 (Lambda)               (None, 32, 32, 3)    0           cropping2d_1[0][0]               \n",
      "__________________________________________________________________________________________________\n",
      "lambda_2 (Lambda)               (None, 32, 32, 1)    0           lambda_1[0][0]                   \n",
      "__________________________________________________________________________________________________\n",
      "lambda_3 (Lambda)               (None, 32, 32, 1)    0           lambda_2[0][0]                   \n",
      "__________________________________________________________________________________________________\n",
      "conv2d_1 (Conv2D)               (None, 32, 32, 16)   32          lambda_3[0][0]                   \n",
      "__________________________________________________________________________________________________\n",
      "activation_1 (Activation)       (None, 32, 32, 16)   0           conv2d_1[0][0]                   \n",
      "__________________________________________________________________________________________________\n",
      "conv2d_2 (Conv2D)               (None, 28, 28, 32)   12832       activation_1[0][0]               \n",
      "__________________________________________________________________________________________________\n",
      "activation_2 (Activation)       (None, 28, 28, 32)   0           conv2d_2[0][0]                   \n",
      "__________________________________________________________________________________________________\n",
      "max_pooling2d_1 (MaxPooling2D)  (None, 14, 14, 32)   0           activation_2[0][0]               \n",
      "__________________________________________________________________________________________________\n",
      "conv2d_3 (Conv2D)               (None, 14, 14, 32)   1056        max_pooling2d_1[0][0]            \n",
      "__________________________________________________________________________________________________\n",
      "activation_3 (Activation)       (None, 14, 14, 32)   0           conv2d_3[0][0]                   \n",
      "__________________________________________________________________________________________________\n",
      "conv2d_4 (Conv2D)               (None, 10, 10, 64)   51264       activation_3[0][0]               \n",
      "__________________________________________________________________________________________________\n",
      "activation_4 (Activation)       (None, 10, 10, 64)   0           conv2d_4[0][0]                   \n",
      "__________________________________________________________________________________________________\n",
      "max_pooling2d_2 (MaxPooling2D)  (None, 5, 5, 64)     0           activation_4[0][0]               \n",
      "__________________________________________________________________________________________________\n",
      "conv2d_5 (Conv2D)               (None, 5, 5, 64)     4160        max_pooling2d_2[0][0]            \n",
      "__________________________________________________________________________________________________\n",
      "activation_5 (Activation)       (None, 5, 5, 64)     0           conv2d_5[0][0]                   \n",
      "__________________________________________________________________________________________________\n",
      "concatenate_1 (Concatenate)     (None, 5, 5, 128)    0           max_pooling2d_2[0][0]            \n",
      "                                                                 activation_5[0][0]               \n",
      "__________________________________________________________________________________________________\n",
      "flatten_1 (Flatten)             (None, 3200)         0           concatenate_1[0][0]              \n",
      "__________________________________________________________________________________________________\n",
      "dropout_1 (Dropout)             (None, 3200)         0           flatten_1[0][0]                  \n",
      "__________________________________________________________________________________________________\n",
      "dense_1 (Dense)                 (None, 128)          409728      dropout_1[0][0]                  \n",
      "__________________________________________________________________________________________________\n",
      "activation_6 (Activation)       (None, 128)          0           dense_1[0][0]                    \n",
      "__________________________________________________________________________________________________\n",
      "dropout_2 (Dropout)             (None, 128)          0           activation_6[0][0]               \n",
      "__________________________________________________________________________________________________\n",
      "dense_2 (Dense)                 (None, 1)            129         dropout_2[0][0]                  \n",
      "==================================================================================================\n",
      "Total params: 479,201\n",
      "Trainable params: 479,201\n",
      "Non-trainable params: 0\n",
      "__________________________________________________________________________________________________\n"
     ]
    },
    {
     "name": "stderr",
     "output_type": "stream",
     "text": [
      "/home/tzyhpcom/anaconda3/lib/python3.6/site-packages/ipykernel_launcher.py:53: UserWarning: The semantics of the Keras 2 argument `steps_per_epoch` is not the same as the Keras 1 argument `samples_per_epoch`. `steps_per_epoch` is the number of batches to draw from the generator at each epoch. Basically steps_per_epoch = samples_per_epoch/batch_size. Similarly `nb_val_samples`->`validation_steps` and `val_samples`->`steps` arguments have changed. Update your method calls accordingly.\n",
      "/home/tzyhpcom/anaconda3/lib/python3.6/site-packages/ipykernel_launcher.py:53: UserWarning: Update your `fit_generator` call to the Keras 2 API: `fit_generator(<generator..., validation_data=<generator..., verbose=1, steps_per_epoch=33880, epochs=5, validation_steps=8471)`\n"
     ]
    },
    {
     "name": "stdout",
     "output_type": "stream",
     "text": [
      "Epoch 1/5\n",
      "33880/33880 [==============================] - 3088s 91ms/step - loss: 0.0344 - val_loss: 0.0253\n",
      "Epoch 2/5\n",
      "33880/33880 [==============================] - 3077s 91ms/step - loss: 0.0289 - val_loss: 0.0242\n",
      "Epoch 3/5\n",
      " 9502/33880 [=======>......................] - ETA: 29:38 - loss: 0.0282"
     ]
    }
   ],
   "source": [
    "import pickle\n",
    "from keras.layers import Conv2D, MaxPooling2D\n",
    "from keras.layers import Activation, Dropout, Flatten, Dense\n",
    "from keras.models import Sequential, Model\n",
    "from keras.layers import Lambda, Concatenate\n",
    "from keras.layers import Cropping2D, Input\n",
    "from keras.layers import Reshape\n",
    "from keras import regularizers\n",
    "from keras import backend as K\n",
    "import tensorflow\n",
    "import cv2\n",
    "\n",
    "lamda_w = 1e-4\n",
    "\n",
    "# model = Sequential()\n",
    "input1 = Input(shape=(160,320,3))\n",
    "crop1 = Cropping2D(cropping=((50,20), (0,0)))(input1)\n",
    "resize1 = Lambda(lambda image: K.tf.image.resize_images(image, [32, 32], \\\n",
    "        method=K.tf.image.ResizeMethod.AREA))(crop1)\n",
    "gray1 = Lambda(lambda image: K.tf.image.rgb_to_grayscale(image))(resize1)\n",
    "scale1 = Lambda(lambda x: (x / 255.0) - 0.5)(gray1)\n",
    "          \n",
    "conv1 = Conv2D(16, (1, 1), strides=(1, 1), padding='valid', kernel_regularizer=regularizers.l2(lamda_w))(scale1)\n",
    "conv1 = Activation('relu')(conv1)\n",
    "\n",
    "conv2 = Conv2D(32, (5, 5), strides=(1, 1), padding='valid', kernel_regularizer=regularizers.l2(lamda_w))(conv1)\n",
    "conv2 = Activation('relu')(conv2)\n",
    "conv2 = MaxPooling2D(pool_size=(2, 2), strides=(2, 2), padding='valid')(conv2)\n",
    "\n",
    "conv3 = Conv2D(32, (1, 1), strides=(1, 1), padding='valid', kernel_regularizer=regularizers.l2(lamda_w))(conv2)\n",
    "conv3 = Activation('relu')(conv3)\n",
    "\n",
    "conv4 = Conv2D(64, (5, 5), strides=(1, 1), padding='valid', kernel_regularizer=regularizers.l2(lamda_w))(conv3)\n",
    "conv4 = Activation('relu')(conv4)\n",
    "conv4 = MaxPooling2D(pool_size=(2, 2), strides=(2, 2), padding='valid')(conv4)\n",
    "\n",
    "conv5 = Conv2D(64, (1, 1), strides=(1, 1), padding='valid', kernel_regularizer=regularizers.l2(lamda_w))(conv4)\n",
    "conv5 = Activation('relu')(conv5)\n",
    "\n",
    "merge1 = Concatenate()([conv4, conv5])\n",
    "flat1 = Flatten()(merge1)\n",
    "flat1 = Dropout(0.5)(flat1)\n",
    "\n",
    "dense1 = Dense(128, kernel_regularizer=regularizers.l2(lamda_w))(flat1)\n",
    "dense1 = Activation('relu')(dense1)\n",
    "dense1 = Dropout(0.5)(dense1)\n",
    "\n",
    "output = Dense(1)(dense1)\n",
    "\n",
    "model = Model(inputs=input1, outputs=output)\n",
    "\n",
    "model.compile(loss='mse', optimizer='adam')\n",
    "model.summary()\n",
    "history_object = model.fit_generator(train_generator, samples_per_epoch= len(train_samples), \\\n",
    "                                     validation_data=validation_generator, \\\n",
    "                                     nb_val_samples=len(validation_samples), \\\n",
    "                                     nb_epoch=5, verbose=1)\n",
    "model.save('model.h5') "
   ]
  },
  {
   "cell_type": "code",
   "execution_count": null,
   "metadata": {
    "collapsed": true
   },
   "outputs": [],
   "source": []
  },
  {
   "cell_type": "code",
   "execution_count": null,
   "metadata": {
    "collapsed": true
   },
   "outputs": [],
   "source": []
  },
  {
   "cell_type": "code",
   "execution_count": null,
   "metadata": {
    "collapsed": true
   },
   "outputs": [],
   "source": []
  },
  {
   "cell_type": "code",
   "execution_count": null,
   "metadata": {
    "collapsed": true
   },
   "outputs": [],
   "source": [
    "# augment data with left and right images\n",
    "# with open(csv_file, 'r') as f:\n",
    "#     reader = csv.reader(f)\n",
    "#     for row in reader:\n",
    "#         steering_center = float(row[3])\n",
    "\n",
    "#         # create adjusted steering measurements for the side camera images\n",
    "#         correction = 0.2 # this is a parameter to tune\n",
    "#         steering_left = steering_center + correction\n",
    "#         steering_right = steering_center - correction\n",
    "\n",
    "#         # read in images from center, left and right cameras\n",
    "#         path = \"...\" # fill in the path to your training IMG directory\n",
    "#         img_center = process_image(np.asarray(Image.open(path + row[0])))\n",
    "#         img_left = process_image(np.asarray(Image.open(path + row[1])))\n",
    "#         img_right = process_image(np.asarray(Image.open(path + row[2])))\n",
    "\n",
    "#         # add images and angles to data set\n",
    "#         car_images.extend(img_center, img_left, img_right)\n",
    "#         steering_angles.extend(steering_center, steering_left, steering_right)"
   ]
  },
  {
   "cell_type": "code",
   "execution_count": null,
   "metadata": {
    "collapsed": true
   },
   "outputs": [],
   "source": [
    "# from PIL import Image\n",
    "# import matplotlib.pyplot as plt\n",
    "\n",
    "# image1 = cv2.imread(samples[0][0])\n",
    "# image2 = Image.open(samples[0][0])\n",
    "# plt.figure()\n",
    "# plt.imshow(image1)\n",
    "# plt.figure()\n",
    "# plt.imshow(image2)"
   ]
  },
  {
   "cell_type": "code",
   "execution_count": null,
   "metadata": {
    "collapsed": true
   },
   "outputs": [],
   "source": [
    "from keras.models import Model\n",
    "import matplotlib.pyplot as plt\n",
    "\n",
    "# history_object = model.fit_generator(train_generator, samples_per_epoch =\n",
    "#     len(train_samples), validation_data = \n",
    "#     validation_generator,\n",
    "#     nb_val_samples = len(validation_samples), \n",
    "#     nb_epoch=5, verbose=1)\n",
    "\n",
    "### print the keys contained in the history object\n",
    "print(history_object.history.keys())\n",
    "\n",
    "### plot the training and validation loss for each epoch\n",
    "plt.plot(history_object.history['loss'])\n",
    "plt.plot(history_object.history['val_loss'])\n",
    "plt.title('model mean squared error loss')\n",
    "plt.ylabel('mean squared error loss')\n",
    "plt.xlabel('epoch')\n",
    "plt.legend(['training set', 'validation set'], loc='upper right')\n",
    "plt.show()"
   ]
  }
 ],
 "metadata": {
  "kernelspec": {
   "display_name": "Python 3",
   "language": "python",
   "name": "python3"
  },
  "language_info": {
   "codemirror_mode": {
    "name": "ipython",
    "version": 3
   },
   "file_extension": ".py",
   "mimetype": "text/x-python",
   "name": "python",
   "nbconvert_exporter": "python",
   "pygments_lexer": "ipython3",
   "version": "3.6.3"
  }
 },
 "nbformat": 4,
 "nbformat_minor": 2
}
